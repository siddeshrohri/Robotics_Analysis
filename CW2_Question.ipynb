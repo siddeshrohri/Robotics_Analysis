{
 "cells": [
  {
   "cell_type": "markdown",
   "source": [
    "# Question 2\n",
    "\n",
    "Assume the initial position of the end-effector is p = (1, 2, 3). The goal is for the end-effector to pass through a via-point (5, 10, 12) at t = 1s and reach the goal at (10, 8, 7) by t = 5s.\n",
    "\n",
    "1. Generate a 3D trajectory for the end-effector using two second-order polynomials, one for each dimension (planning in Cartesian space).\n",
    "2. Plot the generated trajectories in the form of t-x, t-y, and t-z (one figure for each dimension)."
   ],
   "metadata": {
    "collapsed": false
   }
  },
  {
   "cell_type": "code",
   "execution_count": 6,
   "outputs": [],
   "source": [
    "import numpy as np\n",
    "import matplotlib.pyplot as plt"
   ],
   "metadata": {
    "collapsed": false
   }
  },
  {
   "cell_type": "code",
   "execution_count": 7,
   "outputs": [],
   "source": [
    "# Second-order polynomials trajectory\n",
    "# x(t) = a_x * t^2 + b_x * t + c_x\n",
    "# y(t) = a_y * t^2 + b_y * t + c_y\n",
    "# z(t) = a_z * t^2 + b_z * t + c_z\n",
    "\n",
    "# define the time and position of start point, via point and end-point\n",
    "start_point, via_point, end_point = np.array([1, 2, 3]), np.array([5, 10, 12]), np.array([10, 8, 7])\n",
    "points = np.array([\n",
    "    start_point,\n",
    "    via_point,\n",
    "    end_point\n",
    "])\n",
    "start_time, via_time, end_time = 0.0, 1.0, 5.0\n",
    "\n",
    "# TODO: implement your code here. When you plot your trajectories, remember to display the start-, via-, and end-point.\n",
    "\n",
    "\n",
    "\n"
   ],
   "metadata": {
    "collapsed": false
   }
  },
  {
   "cell_type": "code",
   "execution_count": 8,
   "outputs": [],
   "source": [
    "# NOTE: For this question, you don't need to discuss the results in your report. You only need to the implement the trajectory generation in the above cell.\n"
   ],
   "metadata": {
    "collapsed": false
   }
  }
 ],
 "metadata": {
  "kernelspec": {
   "display_name": "Python 3",
   "language": "python",
   "name": "python3"
  },
  "language_info": {
   "codemirror_mode": {
    "name": "ipython",
    "version": 2
   },
   "file_extension": ".py",
   "mimetype": "text/x-python",
   "name": "python",
   "nbconvert_exporter": "python",
   "pygments_lexer": "ipython2",
   "version": "2.7.6"
  }
 },
 "nbformat": 4,
 "nbformat_minor": 0
}
